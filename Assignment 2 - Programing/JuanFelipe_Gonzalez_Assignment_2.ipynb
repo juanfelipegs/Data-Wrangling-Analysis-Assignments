{
 "cells": [
  {
   "cell_type": "markdown",
   "metadata": {},
   "source": [
    "* __INSTRUCTIONS:__\n",
    "\n",
    "\n",
    "    * Add your code as indicated in each cell.\n",
    "\n",
    "\n",
    "    * Besides adding your code, do not alter this file.\n",
    "\n",
    "\n",
    "    * Do not delete or change test cases. Once you are done with the assignment, you can run the test cases to see if you programmed the questions correctly.\n",
    "\n",
    "\n",
    "    * If you get a question wrong, do not give up. Keep trying until you pass the test cases.\n",
    "\n",
    "\n",
    "    * Rename the file as firstname_lastname_assignmentid.ipynb (e.g., marina_johnson_assignment1.ipynb)\n",
    "\n",
    "\n",
    "    * Only submit .ipynb files (no .py files)"
   ]
  },
  {
   "cell_type": "markdown",
   "metadata": {},
   "source": [
    "# Question 1\n",
    "1. Read the ckd dataset (ckd.xlsx) and save it as df_ckd\n",
    "\n",
    "\n",
    "2. Read the AAPL dataset (AAPL.csv) and save it as df_aapl\n",
    "\n",
    "\n",
    "3. Read the telco_churn dataset (telco_churn.csv) and save it as df_churn\n",
    "\n",
    "    * __Hints:__ \n",
    "        * Check __Module 3__ videos. Particularly, check __Module3b: Pandas Intro_\n",
    "        * Ensure the file is in the same folder with this assignment file.\n",
    "        * Do not use any path to read the dataset. For example, I should not be using __\"/Users/armej/Downloads/ckd.xlsx\".__ If you use a path, I will not be able to run your and grade code."
   ]
  },
  {
   "cell_type": "code",
   "execution_count": 45,
   "metadata": {},
   "outputs": [],
   "source": [
    "import pandas as pd \n",
    "\n",
    "df_ckd = pd.read_excel ('ckd.xlsx')\n",
    "df_appl = pd.read_csv('df_AAPL.csv')\n",
    "df_churn = pd.read_csv('df_churn.csv')"
   ]
  },
  {
   "cell_type": "markdown",
   "metadata": {},
   "source": [
    "## Test case for Question 1. Do not alter or delete the cell below."
   ]
  },
  {
   "cell_type": "code",
   "execution_count": 2,
   "metadata": {},
   "outputs": [],
   "source": [
    "score = dict()\n",
    "\n",
    "try:\n",
    "    if (df_churn.size == 147903 and df_appl.size == 1288 and df_ckd.size == 9675):\n",
    "        score['question 1'] = 'pass'\n",
    "    else: \n",
    "        score['question 1'] = 'fail'\n",
    "except:\n",
    "    score['question 1'] = 'fail'"
   ]
  },
  {
   "cell_type": "markdown",
   "metadata": {},
   "source": [
    "#############################################################################"
   ]
  },
  {
   "cell_type": "markdown",
   "metadata": {},
   "source": [
    "# Question 2"
   ]
  },
  {
   "cell_type": "markdown",
   "metadata": {},
   "source": [
    "1. Identify the names of numerical variables for the ckd (chronic kidney disease) dataset.\n",
    "\n",
    "\n",
    "2. Identify the names of categorical variables for the ckd (chronic kidney disease) dataset.\n",
    "\n",
    "    * __Hints:__\n",
    "        * Check __Module 3__ videos. Particularly, look at the __Module 3b: Pandas Intro__ (The solution is illustrated around __minute 16 to minute 20__ in Module 3b: Pandas Intro)\n",
    "        * Do not forget the make the result a __LIST__. So numerical_var and categorical_var must be a list"
   ]
  },
  {
   "cell_type": "code",
   "execution_count": 4,
   "metadata": {},
   "outputs": [
    {
     "name": "stdout",
     "output_type": "stream",
     "text": [
      "Numerical variables: ['age', 'bp', 'sg', 'al', 'su', 'bgr', 'bu', 'sc', 'sod', 'pot', 'hemo', 'pcv', 'wbcc', 'rbcc']\n",
      "Categorical variables: ['rbc', 'pc', 'pcc', 'ba', 'htn', 'dm', 'cad', 'appet', 'pe', 'ane', 'class']\n"
     ]
    }
   ],
   "source": [
    "import pandas as pd\n",
    "\n",
    "# Load the dataset\n",
    "df_ckd = pd.read_excel('ckd.xlsx')\n",
    "\n",
    "# Identify numerical variables\n",
    "numerical_var = df_ckd.select_dtypes(include=['int64', 'float64']).columns.tolist()\n",
    "\n",
    "# Identify categorical variables\n",
    "categorical_var = df_ckd.select_dtypes(include=['object', 'category']).columns.tolist()\n",
    "\n",
    "# Display the results\n",
    "print(\"Numerical variables:\", numerical_var)\n",
    "print(\"Categorical variables:\", categorical_var)"
   ]
  },
  {
   "cell_type": "markdown",
   "metadata": {},
   "source": [
    "## Test case for Question 2. Do not alter or delete the cell below."
   ]
  },
  {
   "cell_type": "code",
   "execution_count": 5,
   "metadata": {},
   "outputs": [],
   "source": [
    "try:\n",
    "    if ((numerical_var == ['age', 'bp','sg','al','su','bgr','bu','sc','sod', 'pot','hemo','pcv','wbcc','rbcc']) & (categorical_var == ['rbc', 'pc', 'pcc', 'ba', 'htn', 'dm', 'cad', 'appet', 'pe', 'ane', 'class'])):\n",
    "        score['question 2'] = 'pass'\n",
    "    else: \n",
    "        score['question 2'] = 'fail'\n",
    "except:\n",
    "    score['question 2'] = 'fail'"
   ]
  },
  {
   "cell_type": "markdown",
   "metadata": {},
   "source": [
    "#############################################################################"
   ]
  },
  {
   "cell_type": "markdown",
   "metadata": {},
   "source": [
    "# Question 3"
   ]
  },
  {
   "cell_type": "markdown",
   "metadata": {},
   "source": [
    "1. How many people have __wbcc__ less than or equal to 7000? \n",
    "\n",
    "    * __Hints:__\n",
    "        * You will filter the dataframe using only the __wbcc__ column. \n",
    "        * The filtered dataframe should only contain instances whose __wbcc is less than or equal to 7000.__ \n",
    "        * After you filter your dataset, do not forget the count the number of observations. \n",
    "        * Check __Module 3c: Accessing columns and rows__\n",
    "        \n",
    "        \n",
    "2. How many people with ckd have wbcc less than 6000? \n",
    "\n",
    "    * __Hints:__ \n",
    "        * You will filter the dataframe using two columns: __wbcc and class__ columns. \n",
    "        * The filtered dataframe should only contain instances whose __wbcc is less than 6000, and class is equal to \"ckd\".__ \n",
    "        * After you filter your dataset, do not forget the count the number of observations.\n",
    "        * Check __Module 3c: Accessing columns and rows__"
   ]
  },
  {
   "cell_type": "code",
   "execution_count": 7,
   "metadata": {},
   "outputs": [
    {
     "name": "stdout",
     "output_type": "stream",
     "text": [
      "Number of people with wbcc <= 7000: 104\n",
      "Number of people with ckd and wbcc < 6000: 25\n"
     ]
    }
   ],
   "source": [
    "import pandas as pd\n",
    "\n",
    "# Load the dataset\n",
    "df_ckd = pd.read_excel('ckd.xlsx')\n",
    "\n",
    "# Ensure 'wbcc' and 'class' are in the correct format, sometimes they might be loaded as strings\n",
    "df_ckd['wbcc'] = pd.to_numeric(df_ckd['wbcc'], errors='coerce')\n",
    "\n",
    "# Filter for people with wbcc <= 7000\n",
    "ppl_with_low_wbcc = df_ckd[df_ckd['wbcc'] <= 7000].shape[0]\n",
    "\n",
    "# Filter for people with ckd and wbcc < 6000\n",
    "ckd_ppl_with_low_wbcc = df_ckd[(df_ckd['wbcc'] < 6000) & (df_ckd['class'] == 'ckd')].shape[0]\n",
    "\n",
    "# Display the results\n",
    "print(\"Number of people with wbcc <= 7000:\", ppl_with_low_wbcc)\n",
    "print(\"Number of people with ckd and wbcc < 6000:\", ckd_ppl_with_low_wbcc)"
   ]
  },
  {
   "cell_type": "markdown",
   "metadata": {},
   "source": [
    "## Test case for Question 3. Do not alter or delete the cell below."
   ]
  },
  {
   "cell_type": "code",
   "execution_count": 8,
   "metadata": {},
   "outputs": [],
   "source": [
    "try:\n",
    "    if ((ppl_with_low_wbcc == 104) and (ckd_ppl_with_low_wbcc == 25)):\n",
    "        score['question 3'] = 'pass'\n",
    "    else: \n",
    "        score['question 3'] = 'fail'\n",
    "except:\n",
    "    score['question 3'] = 'fail'"
   ]
  },
  {
   "cell_type": "markdown",
   "metadata": {},
   "source": [
    "#############################################################################"
   ]
  },
  {
   "cell_type": "markdown",
   "metadata": {},
   "source": [
    "# Question 4"
   ]
  },
  {
   "cell_type": "markdown",
   "metadata": {},
   "source": [
    "1. How many people who are less than or equal to 60 years old have ckd (chronic kidney disease). \n",
    "\n",
    "    * __Hints:__ \n",
    "        * You will filter the dataframe using two columns: __age and class__ columns. \n",
    "        * The filtered dataframe should only contain instances whose __age is less than or equal to 60 years and class is equal to \"ckd\".__ \n",
    "        * After you filter your dataset, do not forget the count the number of observations.\n",
    "        * Check __Module 3c: Accessing columns and rows__"
   ]
  },
  {
   "cell_type": "code",
   "execution_count": 10,
   "metadata": {},
   "outputs": [
    {
     "name": "stdout",
     "output_type": "stream",
     "text": [
      "Number of people with ckd who are less than or equal to 60 years old: 130\n"
     ]
    }
   ],
   "source": [
    "import pandas as pd\n",
    "\n",
    "# Load the dataset\n",
    "df_ckd = pd.read_excel('ckd.xlsx')\n",
    "\n",
    "# Ensure 'age' is in the correct format, sometimes it might be loaded as a string\n",
    "df_ckd['age'] = pd.to_numeric(df_ckd['age'], errors='coerce')\n",
    "\n",
    "# Filter for people who are less than or equal to 60 years old and have ckd\n",
    "ckd_ppl_less_60 = df_ckd[(df_ckd['age'] <= 60) & (df_ckd['class'] == 'ckd')].shape[0]\n",
    "\n",
    "# Display the result\n",
    "print(\"Number of people with ckd who are less than or equal to 60 years old:\", ckd_ppl_less_60)"
   ]
  },
  {
   "cell_type": "markdown",
   "metadata": {},
   "source": [
    "## Test case for Question 4. Do not alter or delete the cell below."
   ]
  },
  {
   "cell_type": "code",
   "execution_count": 11,
   "metadata": {},
   "outputs": [],
   "source": [
    "try:\n",
    "    if ckd_ppl_less_60 == 130:\n",
    "        score['question 4'] = 'pass'\n",
    "    else: \n",
    "        score['question 4'] = 'fail'\n",
    "except:\n",
    "    score['question 4'] = 'fail'"
   ]
  },
  {
   "cell_type": "markdown",
   "metadata": {},
   "source": [
    "#############################################################################"
   ]
  },
  {
   "cell_type": "markdown",
   "metadata": {},
   "source": [
    "# Question 5"
   ]
  },
  {
   "cell_type": "markdown",
   "metadata": {},
   "source": [
    "1. What is the interquartile range of the __age__ column for the people with ckd?\n",
    "\n",
    "    * __Hints:__ \n",
    "        * Interquartile range is the difference between the 75th percentile and 25th percentile. \n",
    "        * First, filter the data using a column: __class.__ The filtered dataset should only contain observations where __class is equal to \"ckd\".__ \n",
    "        * You will then need to select the __age__ column in the filtered dataset and compute its 75th percentile. \n",
    "        * You will repeat the same steps to compute the 25th percentile. \n",
    "        * Finally, take the difference between the 75th and 25th percentile. \n",
    "        * Check __Module 3c: Accessing columns and rows__ and __Module 3d: Desriptive Statistics__\n",
    "    \n",
    "    \n",
    "2. What is the interquartile range of the __age__ column for the people without ckd?\n",
    "\n",
    "     * __Hints:__ \n",
    "        * Interquartile range is the difference between the 75th percentile and 25th percentile. \n",
    "        * First, filter the data using a column: __class.__ The filtered dataset should only contain observations where __class is equal to \"notckd\".__ \n",
    "        * You will then need to select the __age__ column in the filtered dataset and compute its 75th percentile. \n",
    "        * You will repeat the same steps to compute the 25th percentile. \n",
    "        * Finally, take the difference between the 75th and 25th percentile. \n",
    "        * Check __Module 3c: Accessing columns and rows__ and __Module 3d: Desriptive Statistics__"
   ]
  },
  {
   "cell_type": "code",
   "execution_count": 28,
   "metadata": {},
   "outputs": [
    {
     "name": "stdout",
     "output_type": "stream",
     "text": [
      "Interquartile range of age for people with ckd: 17.5\n",
      "Interquartile range of age for people without ckd: 24.0\n"
     ]
    }
   ],
   "source": [
    "import pandas as pd\n",
    "\n",
    "# Load the dataset\n",
    "df_ckd = pd.read_excel('ckd.xlsx')\n",
    "\n",
    "# Ensure 'age' is in the correct format\n",
    "df_ckd['age'] = pd.to_numeric(df_ckd['age'], errors='coerce')\n",
    "\n",
    "# Filter the dataset for people with ckd\n",
    "iqr_ckd = df_ckd[df_ckd['class'] == 'ckd']['age'].dropna()\n",
    "\n",
    "# Calculate the 25th and 75th percentiles for people with ckd\n",
    "q1_ckd = iqr_ckd.quantile(0.25)\n",
    "q3_ckd = iqr_ckd.quantile(0.75)\n",
    "\n",
    "# Calculate the interquartile range for people with ckd\n",
    "iqr_ckd = q3_ckd - q1_ckd\n",
    "\n",
    "# Filter the dataset for people without ckd\n",
    "iqr_notckd = df_ckd[df_ckd['class'] == 'notckd']['age'].dropna()\n",
    "\n",
    "# Calculate the 25th and 75th percentiles for people without ckd\n",
    "q1_notckd = iqr_notckd.quantile(0.25)\n",
    "q3_notckd = iqr_notckd.quantile(0.75)\n",
    "iqr_notckd = q3_notckd - q1_notckd\n",
    "\n",
    "print(\"Interquartile range of age for people with ckd:\", iqr_ckd)\n",
    "print(\"Interquartile range of age for people without ckd:\", iqr_notckd)"
   ]
  },
  {
   "cell_type": "markdown",
   "metadata": {},
   "source": [
    "## Test case for Question 5. Do not alter or delete the cell below."
   ]
  },
  {
   "cell_type": "code",
   "execution_count": 29,
   "metadata": {},
   "outputs": [],
   "source": [
    "try:\n",
    "    if ((iqr_ckd == 17.5) and (iqr_notckd == 24)):\n",
    "        score['question 5'] = 'pass'\n",
    "    else: \n",
    "        score['question 5'] = 'fail'\n",
    "except:\n",
    "    score['question 5'] = 'fail'"
   ]
  },
  {
   "cell_type": "markdown",
   "metadata": {},
   "source": [
    "#############################################################################################"
   ]
  },
  {
   "cell_type": "markdown",
   "metadata": {},
   "source": [
    "__QUESTIONS 6, 7, & 8 USE THE APPL.CSV dataset (df_appl)__"
   ]
  },
  {
   "cell_type": "markdown",
   "metadata": {},
   "source": [
    "#############################################################################################"
   ]
  },
  {
   "cell_type": "markdown",
   "metadata": {},
   "source": [
    "# Question 6"
   ]
  },
  {
   "cell_type": "markdown",
   "metadata": {},
   "source": [
    "1. Compute the average __Volume__ for April in the year of 2015\n",
    "\n",
    "    * __Hints:__ \n",
    "        * You will need to filter the dataset in a way that your dataset will only contain 2015 April observations. \n",
    "        * Remember __Date__ column contains the month, day, and year information. Split this column into these three elements. For example, '04/27/2020' should be split into ['04','27', '2020']. The first element is the month, the second element is the day, and third element is the year. You will need to access and retrieve the first and the third elements.\n",
    "        * Access the months in the Date column after splitting it. Assign the months you obtained to this newly created __month__ column.\n",
    "        * Access the years in the Date column after splitting it. Assign the years you obtained to this newly created __year__ column.\n",
    "        * Now your dataset has two extra columns: __month and year.__ Use these columns to filter your dataset. \n",
    "        * Your filtered dataset should have __month equal to 04 and year equal to 2015__.\n",
    "        * You can select the __Volume__ column from this filtered data and compute its average.\n",
    "        * Check __Module 3c: Accessing Columns and Rows__, __Module 3d: Descriptive Statistics__ and __Module 3g: Summary and Aggregation__, and __Module 1e: String operations__. You may need to use a function such as split."
   ]
  },
  {
   "cell_type": "code",
   "execution_count": 68,
   "metadata": {},
   "outputs": [],
   "source": [
    "df_appl['month'] = pd.to_datetime(df_appl['Date']).dt.month # create the month column\n",
    "\n",
    "df_appl['year'] = pd.to_datetime(df_appl['Date']).dt.year # create the year column\n",
    "\n",
    "april_2015 = df_appl[(df_appl['month'] == 4) & (df_appl['year'] == 2015)] # Filter the data for April 2015\n",
    "\n",
    "average_vol_april_2015 = average_vol_april_2015 = april_2015['Volume'].mean() # Compute average volume in april 2015 - fill in here #"
   ]
  },
  {
   "cell_type": "markdown",
   "metadata": {},
   "source": [
    "## Test case for Question 6. Do not alter or delete the cell below."
   ]
  },
  {
   "cell_type": "code",
   "execution_count": 69,
   "metadata": {},
   "outputs": [],
   "source": [
    "try:\n",
    "    if ((average_vol_april_2015 > 245451649) and (average_vol_april_2015 < 245451651)):\n",
    "        score['question 6'] = 'pass'\n",
    "    else: \n",
    "        score['question 6'] = 'fail'\n",
    "except:\n",
    "    score['question 6'] = 'fail'"
   ]
  },
  {
   "cell_type": "markdown",
   "metadata": {},
   "source": [
    "#############################################################################"
   ]
  },
  {
   "cell_type": "markdown",
   "metadata": {},
   "source": [
    "# Question 7"
   ]
  },
  {
   "cell_type": "markdown",
   "metadata": {},
   "source": [
    "1. Compute the correlation between __Volume__ and closing price (__Close__) for the year of 2016\n",
    "\n",
    "    * __Hints:__ \n",
    "        * You have already created the year and month columns in the previous question. \n",
    "        * Filter the dataset by using the __year__ column. Select the observations in a way that __year is equal to 2016.__ \n",
    "        * Then, select Volume and Close columns in the filtered dataset to compute the corrrelation. \n",
    "        * Remember .corr() function will give you a 2 by 2 correlation matrix. So access the correlation from the matrix by slicing the matrix. (you will need to access the first row, first column)\n",
    "        * Check __Module 3c: Accessing Columns and Rows__, __Module 3d: Descriptive Statistics__ also check the website https://pandas.pydata.org/pandas-docs/stable/reference/api/pandas.DataFrame.corr.html"
   ]
  },
  {
   "cell_type": "code",
   "execution_count": 70,
   "metadata": {
    "scrolled": true
   },
   "outputs": [],
   "source": [
    "df_appl['year'] = pd.to_datetime(df_appl['Date']).dt.year\n",
    "df_2016 = df_appl[df_appl['year'] == 2016] \n",
    "corr_matrix = df_2016[['Volume', 'Close']].corr()\n",
    "corr_vol_price = corr_matrix.loc['Volume', 'Close'] "
   ]
  },
  {
   "cell_type": "markdown",
   "metadata": {},
   "source": [
    "## Test case for Question 7. Do not alter or delete the cell below."
   ]
  },
  {
   "cell_type": "code",
   "execution_count": 71,
   "metadata": {},
   "outputs": [],
   "source": [
    "try:\n",
    "    if ((corr_vol_price  < -0.329) and (corr_vol_price > -0.34)):\n",
    "        score['question 7'] = 'pass'\n",
    "    else: \n",
    "        score['question 7'] = 'fail'\n",
    "except:\n",
    "    score['question 7'] = 'fail'"
   ]
  },
  {
   "cell_type": "markdown",
   "metadata": {},
   "source": [
    "#############################################################################"
   ]
  },
  {
   "cell_type": "markdown",
   "metadata": {},
   "source": [
    "# Question 8"
   ]
  },
  {
   "cell_type": "markdown",
   "metadata": {},
   "source": [
    "1. What is the average fluctuation (i.e., difference) between the closing (Close) and opening (Open) prices?\n",
    "\n",
    "\n",
    "2. What is the standard deviation of the fluctuations (i.e., difference) between the closing (Close) and opening (Open) prices?\n",
    "\n",
    "    * __Hints__:\n",
    "        * Create a new column as the difference between opening costs (__Open__) and closing costs (__Close__). All you need to do is to select these columns in the dataset and take the difference using the minus - sign.\n",
    "        * Name this column as diff\n",
    "        * You can compute the average and standard deviation of this new column using the mean() and std() functions. \n",
    "        * Check __Module 3d: Descriptive Statistics__"
   ]
  },
  {
   "cell_type": "code",
   "execution_count": 51,
   "metadata": {},
   "outputs": [
    {
     "name": "stdout",
     "output_type": "stream",
     "text": [
      "Average fluctuation between closing and opening prices: 0.3124183152173909\n",
      "Standard deviation of the fluctuations between closing and opening prices: 4.206811206695246\n"
     ]
    }
   ],
   "source": [
    "# Create a new column 'diff' which is the difference between 'Close' and 'Open'\n",
    "df_appl['diff'] = df_appl['Close'] - df_appl['Open']\n",
    "\n",
    "# Compute the average of the 'diff' column\n",
    "average_diff = df_appl['diff'].mean()\n",
    "\n",
    "# Compute the standard deviation of the 'diff' column\n",
    "stdev_diff = df_appl['diff'].std()\n",
    "\n",
    "# Display the results\n",
    "print(\"Average fluctuation between closing and opening prices:\", average_diff)\n",
    "print(\"Standard deviation of the fluctuations between closing and opening prices:\", stdev_diff)\n"
   ]
  },
  {
   "cell_type": "markdown",
   "metadata": {},
   "source": [
    "## Test case for Question 8. Do not alter or delete the cell below."
   ]
  },
  {
   "cell_type": "code",
   "execution_count": 52,
   "metadata": {},
   "outputs": [],
   "source": [
    "try:\n",
    "    if ((stdev_diff  > 4.20) and (stdev_diff < 4.3)):\n",
    "        score['question 8'] = 'pass'\n",
    "    else: \n",
    "        score['question 8'] = 'fail'\n",
    "except:\n",
    "    score['question 8'] = 'fail'"
   ]
  },
  {
   "cell_type": "markdown",
   "metadata": {},
   "source": [
    "#############################################################################################"
   ]
  },
  {
   "cell_type": "markdown",
   "metadata": {},
   "source": [
    "__QUESTIONS 9, 10, 11 & 12 USE THE TELCO_CHURN.CSV dataset (df_churn)__"
   ]
  },
  {
   "cell_type": "markdown",
   "metadata": {},
   "source": [
    "#############################################################################################"
   ]
  },
  {
   "cell_type": "markdown",
   "metadata": {},
   "source": [
    "# Question 9"
   ]
  },
  {
   "cell_type": "markdown",
   "metadata": {},
   "source": [
    "1. What is the average tenure of churned customers?\n",
    "\n",
    "\n",
    "2. What is the average tenure of not churned customers?\n",
    "\n",
    "    * __Hints:__ \n",
    "      * To compute the average __tenure__ for churned customers, first filter the dataset using the __Churn__ column where __Churn is Yes.__ \n",
    "      * In this filtered dataset, select the __tenure__ column and compute its average. \n",
    "      * Repeat the same steps for non churned customers (__Churn is equal to No__)\n",
    "      * Check __Module 3c: Accessing Columns and Rows__ and __Module 3d: Descriptive Statistics__"
   ]
  },
  {
   "cell_type": "code",
   "execution_count": 54,
   "metadata": {},
   "outputs": [
    {
     "name": "stdout",
     "output_type": "stream",
     "text": [
      "Average tenure of churned customers: 17.979133226324237\n",
      "Average tenure of not churned customers: 37.56996521066873\n"
     ]
    }
   ],
   "source": [
    "# Filter the dataset for churned customers and compute the average tenure\n",
    "average_tenure_churn = df_churn[df_churn['Churn'] == 'Yes']['tenure'].mean()\n",
    "\n",
    "# Filter the dataset for not churned customers and compute the average tenure\n",
    "average_tenure_not_churn = df_churn[df_churn['Churn'] == 'No']['tenure'].mean()\n",
    "\n",
    "# Display the results\n",
    "print(\"Average tenure of churned customers:\", average_tenure_churn)\n",
    "print(\"Average tenure of not churned customers:\", average_tenure_not_churn)\n"
   ]
  },
  {
   "cell_type": "markdown",
   "metadata": {},
   "source": [
    "## Test case for Question 9. Do not alter or delete the cell below."
   ]
  },
  {
   "cell_type": "code",
   "execution_count": 55,
   "metadata": {},
   "outputs": [],
   "source": [
    "try:\n",
    "    if (average_tenure_churn > 17.9 and average_tenure_churn < 18 and average_tenure_not_churn > 37.5 and average_tenure_not_churn < 37.8):\n",
    "        score['question 9'] = 'pass'\n",
    "    else: \n",
    "        score['question 9'] = 'fail'\n",
    "except:\n",
    "    score['question 9'] = 'fail'"
   ]
  },
  {
   "cell_type": "markdown",
   "metadata": {},
   "source": [
    "#############################################################################"
   ]
  },
  {
   "cell_type": "markdown",
   "metadata": {},
   "source": [
    "# Question 10"
   ]
  },
  {
   "cell_type": "markdown",
   "metadata": {},
   "source": [
    "1. What is the average tenure of customers where StreamingTV is No?\n",
    "\n",
    "\n",
    "2. What is the average tenure of customers where StreamingTV is Yes?\n",
    "\n",
    "    * __Hints:__ \n",
    "      * To compute the average __tenure__ for people with __StreamingTV is No__, first filter the dataset using the __StreamingTV__ column where __StreamingTV is No__. \n",
    "      * In this filtered dataset, select the __tenure__ column and compute its average.\n",
    "      * Repeat the same steps for StreamingTV is Yes (____StreamingTV is Yes__)\n",
    "      * Check __Module 3c: Accessing Columns and Rows__ and __Module 3d: Descriptive Statistics__"
   ]
  },
  {
   "cell_type": "code",
   "execution_count": 57,
   "metadata": {},
   "outputs": [
    {
     "name": "stdout",
     "output_type": "stream",
     "text": [
      "Average tenure of customers where StreamingTV is No: 24.98540925266904\n",
      "Average tenure of customers where StreamingTV is Yes: 41.066124861470264\n"
     ]
    }
   ],
   "source": [
    "# Filter the dataset for customers where StreamingTV is No and compute the average tenure\n",
    "average_tenure_not_streamingTV = df_churn[df_churn['StreamingTV'] == 'No']['tenure'].mean()\n",
    "\n",
    "# Filter the dataset for customers where StreamingTV is Yes and compute the average tenure\n",
    "average_tenure_streamingTV = df_churn[df_churn['StreamingTV'] == 'Yes']['tenure'].mean()\n",
    "\n",
    "# Display the results\n",
    "print(\"Average tenure of customers where StreamingTV is No:\", average_tenure_not_streamingTV)\n",
    "print(\"Average tenure of customers where StreamingTV is Yes:\", average_tenure_streamingTV)\n"
   ]
  },
  {
   "cell_type": "markdown",
   "metadata": {},
   "source": [
    "## Test case for Question 10. Do not alter or delete the cell below."
   ]
  },
  {
   "cell_type": "code",
   "execution_count": 58,
   "metadata": {},
   "outputs": [],
   "source": [
    "try:\n",
    "    if (average_tenure_not_streamingTV > 24.5 and average_tenure_not_streamingTV < 25.5 and average_tenure_streamingTV > 40.5 and average_tenure_streamingTV < 41.5):\n",
    "        score['question 10'] = 'pass'\n",
    "    else: \n",
    "        score['question 10'] = 'fail'\n",
    "except:\n",
    "    score['question 10'] = 'fail'"
   ]
  },
  {
   "cell_type": "markdown",
   "metadata": {},
   "source": [
    "#############################################################################"
   ]
  },
  {
   "cell_type": "markdown",
   "metadata": {},
   "source": [
    "# Question 11"
   ]
  },
  {
   "cell_type": "markdown",
   "metadata": {},
   "source": [
    "1. Use the PaymentMethod column and create a new column named AutoPayment. If the PaymentMethod has the word automatic, make the values in this column 1. Otherwise, make its values 0.\n",
    "\n",
    "    * __Hints__: \n",
    "        * You will iterate through each observation in the __PaymentMethod__ column to check if that particular observation has the word automatic. \n",
    "        * If yes, assign 1 to this newly created column. Otherwise, assign 0. \n",
    "        * This column will tell us if customers do automatic payment. \n",
    "        * Check __Module 1e: String operations__. You may need to use a function such as find(). Also check __Module 2b: for loops__ and __Module 2e: Conditional Statements__"
   ]
  },
  {
   "cell_type": "code",
   "execution_count": 60,
   "metadata": {},
   "outputs": [
    {
     "name": "stdout",
     "output_type": "stream",
     "text": [
      "               PaymentMethod  AutoPayment\n",
      "0           Electronic check            0\n",
      "1               Mailed check            0\n",
      "2               Mailed check            0\n",
      "3  Bank transfer (automatic)            1\n",
      "4           Electronic check            0\n"
     ]
    }
   ],
   "source": [
    "# Create the AutoPayment column\n",
    "df_churn['AutoPayment'] = df_churn['PaymentMethod'].apply(lambda x: 1 if 'automatic' in x.lower() else 0)\n",
    "\n",
    "# Display the first few rows to verify the new column\n",
    "print(df_churn[['PaymentMethod', 'AutoPayment']].head())"
   ]
  },
  {
   "cell_type": "markdown",
   "metadata": {},
   "source": [
    "## Test case for Question 11. Do not alter or delete the cell below."
   ]
  },
  {
   "cell_type": "code",
   "execution_count": 61,
   "metadata": {},
   "outputs": [],
   "source": [
    "try:\n",
    "    if df_churn['AutoPayment'].sum() == 3066:\n",
    "        score['question 11'] = 'pass'\n",
    "    else: \n",
    "        score['question 11'] = 'fail'\n",
    "except:\n",
    "    score['question 11'] = 'fail'"
   ]
  },
  {
   "cell_type": "markdown",
   "metadata": {},
   "source": [
    "#############################################################################"
   ]
  },
  {
   "cell_type": "markdown",
   "metadata": {},
   "source": [
    "# Question 12"
   ]
  },
  {
   "cell_type": "markdown",
   "metadata": {},
   "source": [
    "* What percentage of people with autopayment churn?\n",
    "\n",
    "\n",
    "* What percentage of people without autopayment churn?\n",
    "\n",
    "    * __Hints__: \n",
    "        * You will use the new column you created in Question 11. \n",
    "        * We will find the numerator. This is basically the number of people who do __autopayment and have churned__. Filter the dataset using the __Churn and AutoPayment__ columns. (__Churn is equal to Yes, and Autopayment is equal to 1__). Count the number of observations in this filtered dataset. This is the numerator.\n",
    "        * We will find the denominator. This is basically the number of people who make Autopayment. Filter the dataset using the __Autopayment__ column (__Autopayment is equal to 1__). Count the number of observations in this filtered dataset. This is the denominator.\n",
    "        * You can divide the numerator by the denominator.   \n",
    "        * For the second part of the question, repeat the similar steps. This time, you will select people who did not do __Autopayment__ (__Autopayment is equal to 0__). "
   ]
  },
  {
   "cell_type": "code",
   "execution_count": 63,
   "metadata": {},
   "outputs": [
    {
     "name": "stdout",
     "output_type": "stream",
     "text": [
      "Percentage of people with autopayment who churned: 15.981735159817351\n",
      "Percentage of people without autopayment who churned: 34.674377671611765\n"
     ]
    }
   ],
   "source": [
    "# Find the numerator for people with autopayment who churned\n",
    "numerator_autopay_churn = df_churn[(df_churn['Churn'] == 'Yes') & (df_churn['AutoPayment'] == 1)].shape[0]\n",
    "\n",
    "# Find the denominator for people with autopayment\n",
    "denominator_autopay = df_churn[df_churn['AutoPayment'] == 1].shape[0]\n",
    "\n",
    "# Calculate the percentage of people with autopayment who churned\n",
    "percent_churn_autopay = (numerator_autopay_churn / denominator_autopay) * 100\n",
    "\n",
    "# Find the numerator for people without autopayment who churned\n",
    "numerator_noautopay_churn = df_churn[(df_churn['Churn'] == 'Yes') & (df_churn['AutoPayment'] == 0)].shape[0]\n",
    "\n",
    "# Find the denominator for people without autopayment\n",
    "denominator_noautopay = df_churn[df_churn['AutoPayment'] == 0].shape[0]\n",
    "\n",
    "# Calculate the percentage of people without autopayment who churned\n",
    "percent_churn_noautopay = (numerator_noautopay_churn / denominator_noautopay) * 100\n",
    "\n",
    "# Display the results\n",
    "print(\"Percentage of people with autopayment who churned:\", percent_churn_autopay)\n",
    "print(\"Percentage of people without autopayment who churned:\", percent_churn_noautopay)\n"
   ]
  },
  {
   "cell_type": "markdown",
   "metadata": {},
   "source": [
    "## Test case for Question 12. Do not alter or delete the cell below."
   ]
  },
  {
   "cell_type": "code",
   "execution_count": 64,
   "metadata": {},
   "outputs": [],
   "source": [
    "try:\n",
    "    if (percent_churn_autopay > 15.5 and percent_churn_autopay < 16.5 and percent_churn_noautopay > 34.5 and percent_churn_noautopay < 35.5):\n",
    "        score['question 12'] = 'pass'\n",
    "    else: \n",
    "        score['question 12'] = 'fail'\n",
    "except:\n",
    "    score['question 12'] = 'fail'"
   ]
  },
  {
   "cell_type": "markdown",
   "metadata": {},
   "source": [
    "#############################################################################"
   ]
  },
  {
   "cell_type": "markdown",
   "metadata": {},
   "source": [
    "# Total Score"
   ]
  },
  {
   "cell_type": "code",
   "execution_count": 72,
   "metadata": {
    "scrolled": true
   },
   "outputs": [
    {
     "name": "stdout",
     "output_type": "stream",
     "text": [
      "your total score is:  100\n"
     ]
    }
   ],
   "source": [
    "total_score = 0\n",
    "for i in list(score.values()):\n",
    "    if i=='pass':\n",
    "        total_score = total_score + 8.34\n",
    "print('your total score is: ', round(total_score))"
   ]
  },
  {
   "cell_type": "code",
   "execution_count": null,
   "metadata": {},
   "outputs": [],
   "source": []
  }
 ],
 "metadata": {
  "kernelspec": {
   "display_name": "Python 3 (ipykernel)",
   "language": "python",
   "name": "python3"
  },
  "language_info": {
   "codemirror_mode": {
    "name": "ipython",
    "version": 3
   },
   "file_extension": ".py",
   "mimetype": "text/x-python",
   "name": "python",
   "nbconvert_exporter": "python",
   "pygments_lexer": "ipython3",
   "version": "3.11.7"
  },
  "toc": {
   "nav_menu": {},
   "number_sections": true,
   "sideBar": true,
   "skip_h1_title": false,
   "toc_cell": false,
   "toc_position": {},
   "toc_section_display": "block",
   "toc_window_display": false
  },
  "varInspector": {
   "cols": {
    "lenName": 16,
    "lenType": 16,
    "lenVar": 40
   },
   "kernels_config": {
    "python": {
     "delete_cmd_postfix": "",
     "delete_cmd_prefix": "del ",
     "library": "var_list.py",
     "varRefreshCmd": "print(var_dic_list())"
    },
    "r": {
     "delete_cmd_postfix": ") ",
     "delete_cmd_prefix": "rm(",
     "library": "var_list.r",
     "varRefreshCmd": "cat(var_dic_list()) "
    }
   },
   "types_to_exclude": [
    "module",
    "function",
    "builtin_function_or_method",
    "instance",
    "_Feature"
   ],
   "window_display": false
  }
 },
 "nbformat": 4,
 "nbformat_minor": 2
}
