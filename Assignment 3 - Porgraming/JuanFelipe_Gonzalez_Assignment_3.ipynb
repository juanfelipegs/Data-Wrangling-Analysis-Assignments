{
 "cells": [
  {
   "cell_type": "markdown",
   "metadata": {},
   "source": [
    "* __INSTRUCTIONS:__\n",
    "\n",
    "\n",
    "    * Add your code as indicated in each cell.\n",
    "\n",
    "\n",
    "    * Besides adding your code, do not alter this file.\n",
    "\n",
    "\n",
    "    * Do not delete or change test cases. Once you are done with a question, you can run the test cases to see if you programmed the question correctly.\n",
    "\n",
    "\n",
    "    * If you get a question wrong, do not give up. Keep trying until you pass the test cases.\n",
    "\n",
    "\n",
    "    * Rename the file as firstname_lastname_assignmentid.ipynb (e.g., marina_johnson_assignment1.ipynb)\n",
    "\n",
    "\n",
    "    * Only submit .ipynb files (no .py files)"
   ]
  },
  {
   "cell_type": "code",
   "execution_count": 59,
   "metadata": {},
   "outputs": [],
   "source": [
    "# Do not delete this cell\n",
    "import numpy as np\n",
    "score = dict()\n",
    "np.random.seed(333)"
   ]
  },
  {
   "cell_type": "markdown",
   "metadata": {},
   "source": [
    "###################################################################################################################"
   ]
  },
  {
   "cell_type": "markdown",
   "metadata": {},
   "source": [
    "# Question 1\n",
    "\n",
    "1. Read the employee_attrition dataset and save it as df. Recall that the target variable in this dataset is named __'Attrition.'__\n",
    "\n",
    "\n",
    "2. Check if the dataset is imbalanced by counting the number of Noes and Yeses in the target variable __Attrition.__\n",
    "\n",
    "    * __Hints:__\n",
    "        * Imbalanced data refers to a situation where the number of observations is not the same for all the classes in a dataset. For example, the number of churned employees is 4000, while the number of unchurned employees is 40000. This means this dataset is imbalanced. \n",
    "        \n",
    "        * You need to access the target variable __Attrition__ and count how many Yes and No there is in this variable. If the number of Yes's is equal to the number of No's, then the dataset is balanced. Otherwise, it is not balanced. \n",
    "        \n",
    "        * Check __Module 5g: Encoding Categorical Variables__ to earn more about data imbalance problems. Particularly, check 2.5: Balancing datasets in Module 5. "
   ]
  },
  {
   "cell_type": "code",
   "execution_count": 60,
   "metadata": {},
   "outputs": [
    {
     "name": "stdout",
     "output_type": "stream",
     "text": [
      "Number of Yes: 237\n",
      "Number of No: 1233\n"
     ]
    }
   ],
   "source": [
    "import pandas as pd\n",
    "\n",
    "df = pd.read_csv('df_attrition.csv')\n",
    "\n",
    "# Count the number of 'Yes' and 'No' in the 'Attrition' variable\n",
    "number_of_yes =  (df['Attrition'] == 'Yes').sum()\n",
    "number_of_no = (df['Attrition'] == 'No').sum()\n",
    "\n",
    "print(\"Number of Yes:\", number_of_yes)\n",
    "print(\"Number of No:\", number_of_no)"
   ]
  },
  {
   "cell_type": "markdown",
   "metadata": {},
   "source": [
    "## Do not alter the below cell. It is a test case for Question 1"
   ]
  },
  {
   "cell_type": "code",
   "execution_count": 17,
   "metadata": {},
   "outputs": [
    {
     "data": {
      "text/plain": [
       "{'question 2': 'fail', 'question 1': 'pass'}"
      ]
     },
     "execution_count": 17,
     "metadata": {},
     "output_type": "execute_result"
    }
   ],
   "source": [
    "try:\n",
    "    if (number_of_yes == 237 and number_of_no == 1233):\n",
    "        score['question 1'] = 'pass'\n",
    "    else: \n",
    "        score['question 1'] = 'fail'\n",
    "except:\n",
    "    score['question 1'] = 'fail'\n",
    "score"
   ]
  },
  {
   "cell_type": "markdown",
   "metadata": {},
   "source": [
    "###################################################################################################################"
   ]
  },
  {
   "cell_type": "markdown",
   "metadata": {},
   "source": [
    "# Question 2\n",
    "1. Identify the names of the __numerical input variables__ and save it as a __LIST__\n",
    "\n",
    "\n",
    "2. Identify the names of the __categorical input variables+__ and save it as a __LIST__\n",
    "\n",
    "    * __Hints__:\n",
    "        * Remember __Attrition__ is the __target (output)__ variable, so exclude __Attrition__ from both LISTS containing the numerical and categorical __input__ variables.\n",
    "        * Check __Modules 5b: Dropping Variables__ and __Module 3e: Helpful Functions (check after minute 4)__"
   ]
  },
  {
   "cell_type": "code",
   "execution_count": 61,
   "metadata": {},
   "outputs": [
    {
     "name": "stdout",
     "output_type": "stream",
     "text": [
      "Numerical variables: ['Age', 'DailyRate', 'DistanceFromHome', 'Education', 'EmployeeCount', 'EmployeeNumber', 'EnvironmentSatisfaction', 'HourlyRate', 'JobInvolvement', 'JobLevel', 'JobSatisfaction', 'MonthlyIncome', 'MonthlyRate', 'NumCompaniesWorked', 'PercentSalaryHike', 'PerformanceRating', 'RelationshipSatisfaction', 'StandardHours', 'StockOptionLevel', 'TotalWorkingYears', 'TrainingTimesLastYear', 'WorkLifeBalance', 'YearsAtCompany', 'YearsInCurrentRole', 'YearsSinceLastPromotion', 'YearsWithCurrManager']\n",
      "Categorical variables: ['BusinessTravel', 'Department', 'EducationField', 'Gender', 'JobRole', 'MaritalStatus', 'OverTime']\n"
     ]
    }
   ],
   "source": [
    "numerical_variables =  df.select_dtypes(include=['int64', 'float64']).columns.tolist()\n",
    "categorical_varables =  df.select_dtypes(include=['object']).columns.tolist()\n",
    "categorical_varables.remove('Attrition')  # Remove the target variable 'Attrition'\n",
    "\n",
    "print(\"Numerical variables:\", numerical_variables)\n",
    "print(\"Categorical variables:\", categorical_variables)\n"
   ]
  },
  {
   "cell_type": "markdown",
   "metadata": {},
   "source": [
    "## Do not alter the below cell. It is a test case for Question 2"
   ]
  },
  {
   "cell_type": "code",
   "execution_count": 22,
   "metadata": {},
   "outputs": [
    {
     "data": {
      "text/plain": [
       "{'question 2': 'pass', 'question 1': 'pass'}"
      ]
     },
     "execution_count": 22,
     "metadata": {},
     "output_type": "execute_result"
    }
   ],
   "source": [
    "try:\n",
    "    if ((sorted(numerical_variables) == ['Age','DailyRate','DistanceFromHome','Education',\n",
    "                                        'EmployeeCount','EmployeeNumber','EnvironmentSatisfaction',\n",
    "                                        'HourlyRate','JobInvolvement','JobLevel','JobSatisfaction',\n",
    "                                        'MonthlyIncome','MonthlyRate','NumCompaniesWorked','PercentSalaryHike',\n",
    "                                        'PerformanceRating','RelationshipSatisfaction','StandardHours',\n",
    "                                        'StockOptionLevel','TotalWorkingYears','TrainingTimesLastYear',\n",
    "                                        'WorkLifeBalance','YearsAtCompany','YearsInCurrentRole',\n",
    "                                        'YearsSinceLastPromotion','YearsWithCurrManager']) and \n",
    "    (sorted(categorical_varables) == ['BusinessTravel','Department','EducationField','Gender',\n",
    "                                          'JobRole','MaritalStatus','Over18','OverTime'])):\n",
    "        \n",
    "        score['question 2'] = 'pass'\n",
    "    else: \n",
    "        score['question 2'] = 'fail'\n",
    "except:\n",
    "    score['question 2'] = 'fail'\n",
    "score"
   ]
  },
  {
   "cell_type": "markdown",
   "metadata": {},
   "source": [
    "###################################################################################################################"
   ]
  },
  {
   "cell_type": "markdown",
   "metadata": {},
   "source": [
    "# Question 3\n",
    "1. Identify the numerical variables with zero variance (i.e., zero standard deviation) and save them in a LIST\n",
    "\n",
    "\n",
    "2. Drop these numerical variables with zero variance (i.e., zero standard deviation) from the dataset df. The dataset df should not have these variables going forward. \n",
    "\n",
    "    * __Hints:__\n",
    "        * For each numerical variable, compute the standard deviation. If the standard deviation is zero, delete (i.e., drop) that variable from the dataset df. \n",
    "        * Check __Modules 5b: Dropping Variables__"
   ]
  },
  {
   "cell_type": "code",
   "execution_count": 62,
   "metadata": {},
   "outputs": [
    {
     "name": "stdout",
     "output_type": "stream",
     "text": [
      "Zero variance numerical variables: ['EmployeeCount', 'StandardHours']\n",
      "Updated DataFrame shape: (1470, 33)\n"
     ]
    }
   ],
   "source": [
    "# Identify numerical variables\n",
    "numerical_variables = df.select_dtypes(include=['number']).columns.tolist()\n",
    "\n",
    "# Identify numerical variables with zero variance\n",
    "zero_variance_numerical_variables = [var for var in numerical_variables if df[var].std() == 0]\n",
    "\n",
    "# Drop these zero variance numerical variables from the dataset\n",
    "df = df.drop(columns=zero_variance_numerical_variables)\n",
    "\n",
    "print(\"Zero variance numerical variables:\", zero_variance_numerical_variables)\n",
    "print(\"Updated DataFrame shape:\", df.shape)"
   ]
  },
  {
   "cell_type": "markdown",
   "metadata": {},
   "source": [
    "## Do not alter the below cell. It is a test case for Question 3"
   ]
  },
  {
   "cell_type": "code",
   "execution_count": 144,
   "metadata": {},
   "outputs": [
    {
     "data": {
      "text/plain": [
       "{'question 1': 'pass', 'question 2': 'pass', 'question 3': 'pass'}"
      ]
     },
     "execution_count": 144,
     "metadata": {},
     "output_type": "execute_result"
    }
   ],
   "source": [
    "try:\n",
    "    if (zero_variance_numerical_variables == ['EmployeeCount', 'StandardHours']):\n",
    "        score['question 3'] = 'pass'\n",
    "    else: \n",
    "        score['question 3'] = 'fail'\n",
    "except:\n",
    "    score['question 3'] = 'fail'\n",
    "score"
   ]
  },
  {
   "cell_type": "markdown",
   "metadata": {},
   "source": [
    "###################################################################################################################"
   ]
  },
  {
   "cell_type": "markdown",
   "metadata": {},
   "source": [
    "# Question 4\n",
    "1. Identify the categorical variables with zero variance (i.e., low cardinality) and save them in a LIST\n",
    "\n",
    "\n",
    "2. Drop these categorical variables with zero variance (i.e., low cardinality) from the dataset df. The dataset df should not have these variables going forward. \n",
    "\n",
    "    * __Hints:__\n",
    "        * For each categorical variable, find the number of levels. If the number of levels is 1, delete (i.e., drop) that variable from the dataset df. For example, if a variable named occupation has only \"Engineers\" across all the rows (i.e., one level), the variable does not contain any information. In other words, zero variation. \n",
    "        \n",
    "        * Check __Modules 5b: Dropping Variables__"
   ]
  },
  {
   "cell_type": "code",
   "execution_count": 63,
   "metadata": {},
   "outputs": [
    {
     "name": "stdout",
     "output_type": "stream",
     "text": [
      "Zero variance categorical variables: ['Over18']\n",
      "Updated DataFrame shape: (1470, 32)\n"
     ]
    }
   ],
   "source": [
    "# Identify categorical variables\n",
    "categorical_variables = df.select_dtypes(include=['object', 'category']).columns.tolist()\n",
    "\n",
    "# Identify categorical variables with zero variance\n",
    "zero_variance_categorical_variables = [var for var in categorical_variables if df[var].nunique() == 1]\n",
    "\n",
    "# Drop these zero variance categorical variables from the dataset\n",
    "df = df.drop(columns=zero_variance_categorical_variables)\n",
    "\n",
    "print(\"Zero variance categorical variables:\", zero_variance_categorical_variables)\n",
    "print(\"Updated DataFrame shape:\", df.shape)"
   ]
  },
  {
   "cell_type": "markdown",
   "metadata": {},
   "source": [
    "## Do not alter the below cell. It is a test case for Question 4"
   ]
  },
  {
   "cell_type": "code",
   "execution_count": 146,
   "metadata": {},
   "outputs": [
    {
     "data": {
      "text/plain": [
       "{'question 1': 'pass',\n",
       " 'question 2': 'pass',\n",
       " 'question 3': 'pass',\n",
       " 'question 4': 'pass'}"
      ]
     },
     "execution_count": 146,
     "metadata": {},
     "output_type": "execute_result"
    }
   ],
   "source": [
    "try:\n",
    "    if (zero_variance_categorical_variables == ['Over18']):\n",
    "        score['question 4'] = 'pass'\n",
    "    else: \n",
    "        score['question 4'] = 'fail'\n",
    "except:\n",
    "    score['question 4'] = 'fail'\n",
    "score"
   ]
  },
  {
   "cell_type": "markdown",
   "metadata": {},
   "source": [
    "###################################################################################################################"
   ]
  },
  {
   "cell_type": "markdown",
   "metadata": {},
   "source": [
    "# Question 5\n",
    "1. Find the categorical variables with very high variance (i.e., very high cardinality) and save them in a LIST. Use 200 as the threshold. In other words, the categorical variables over 200 levels should be considered as variables with high cardinality (i.e., with high variance). \n",
    "\n",
    "\n",
    "2. Drop the categorical variables with very high variance (i.e., very high cardinality) from the dataset df. The dataset df should not have these variables going forward. \n",
    "\n",
    "    * __Hints:__\n",
    "        * For each categorical variable, find the number of levels. If the number of levels is greater than 200, delete (i.e., drop) that variable from the dataset df. For example, \n",
    "        * Check __Modules 5b: Dropping Variables__"
   ]
  },
  {
   "cell_type": "code",
   "execution_count": 64,
   "metadata": {},
   "outputs": [
    {
     "name": "stdout",
     "output_type": "stream",
     "text": [
      "High cardinality categorical variables: []\n",
      "Updated DataFrame shape: (1470, 32)\n"
     ]
    }
   ],
   "source": [
    "# Identify categorical variables\n",
    "categorical_variables = df.select_dtypes(include=['object', 'category']).columns.tolist()\n",
    "\n",
    "# Identify categorical variables with high cardinality\n",
    "high_cardinality_categorical_variables = [var for var in categorical_variables if df[var].nunique() > 200]\n",
    "\n",
    "# Drop these high cardinality categorical variables from the dataset\n",
    "df = df.drop(columns=high_cardinality_categorical_variables)\n",
    "\n",
    "print(\"High cardinality categorical variables:\", high_cardinality_categorical_variables)\n",
    "print(\"Updated DataFrame shape:\", df.shape)"
   ]
  },
  {
   "cell_type": "markdown",
   "metadata": {},
   "source": [
    "## Do not alter the below cell. It is a test case for Question 5"
   ]
  },
  {
   "cell_type": "code",
   "execution_count": 148,
   "metadata": {},
   "outputs": [
    {
     "data": {
      "text/plain": [
       "{'question 1': 'pass',\n",
       " 'question 2': 'pass',\n",
       " 'question 3': 'pass',\n",
       " 'question 4': 'pass',\n",
       " 'question 5': 'pass'}"
      ]
     },
     "execution_count": 148,
     "metadata": {},
     "output_type": "execute_result"
    }
   ],
   "source": [
    "try:\n",
    "    if (high_cardinality_categorical_variables == []):\n",
    "        score['question 5'] = 'pass'\n",
    "    else: \n",
    "        score['question 5'] = 'fail'\n",
    "except:\n",
    "    score['question 5'] = 'fail'\n",
    "score"
   ]
  },
  {
   "cell_type": "markdown",
   "metadata": {},
   "source": [
    "###################################################################################################################"
   ]
  },
  {
   "cell_type": "markdown",
   "metadata": {},
   "source": [
    "# Question 6"
   ]
  },
  {
   "cell_type": "markdown",
   "metadata": {},
   "source": [
    "1. Scale (i.e., standardize) the numerical variables in the dataset using the standardization method and drop the original numerical variables and only keep the standardized ones. \n",
    "\n",
    "2. The new standardized numerical variables should have the same variable names. For example, the age variable after being standardized should be named the same (i.e., age)\n",
    "\n",
    "    * __Hints__:\n",
    "        * Feature standardization makes the values of each feature in the data have zero-mean (when subtracting the mean in the numerator) and unit-variance. This method is widely used for normalization in many machine learning algorithms.\n",
    "        * Check __M5d: Standardization__"
   ]
  },
  {
   "cell_type": "code",
   "execution_count": 65,
   "metadata": {},
   "outputs": [
    {
     "name": "stdout",
     "output_type": "stream",
     "text": [
      "Standardized numerical variables:\n",
      "        Age  DailyRate  DistanceFromHome  Education  EmployeeNumber  \\\n",
      "0  0.446350   0.742527         -1.010909  -0.891688       -1.701283   \n",
      "1  1.322365  -1.297775         -0.147150  -1.868426       -1.699621   \n",
      "2  0.008343   1.414363         -0.887515  -0.891688       -1.696298   \n",
      "3 -0.429664   1.461466         -0.764121   1.061787       -1.694636   \n",
      "4 -1.086676  -0.524295         -0.887515  -1.868426       -1.691313   \n",
      "\n",
      "   EnvironmentSatisfaction  HourlyRate  JobInvolvement  JobLevel  \\\n",
      "0                -0.660531    1.383138        0.379672 -0.057788   \n",
      "1                 0.254625   -0.240677       -1.026167 -0.057788   \n",
      "2                 1.169781    1.284725       -1.026167 -0.961486   \n",
      "3                 1.169781   -0.486709        0.379672 -0.961486   \n",
      "4                -1.575686   -1.274014        0.379672 -0.961486   \n",
      "\n",
      "   JobSatisfaction  ...  PerformanceRating  RelationshipSatisfaction  \\\n",
      "0         1.153254  ...          -0.426230                 -1.584178   \n",
      "1        -0.660853  ...           2.346151                  1.191438   \n",
      "2         0.246200  ...          -0.426230                 -0.658973   \n",
      "3         0.246200  ...          -0.426230                  0.266233   \n",
      "4        -0.660853  ...          -0.426230                  1.191438   \n",
      "\n",
      "   StockOptionLevel  TotalWorkingYears  TrainingTimesLastYear  \\\n",
      "0         -0.932014          -0.421642              -2.171982   \n",
      "1          0.241988          -0.164511               0.155707   \n",
      "2         -0.932014          -0.550208               0.155707   \n",
      "3         -0.932014          -0.421642               0.155707   \n",
      "4          0.241988          -0.678774               0.155707   \n",
      "\n",
      "   WorkLifeBalance  YearsAtCompany  YearsInCurrentRole  \\\n",
      "0        -2.493820       -0.164613           -0.063296   \n",
      "1         0.338096        0.488508            0.764998   \n",
      "2         0.338096       -1.144294           -1.167687   \n",
      "3         0.338096        0.161947            0.764998   \n",
      "4         0.338096       -0.817734           -0.615492   \n",
      "\n",
      "   YearsSinceLastPromotion  YearsWithCurrManager  \n",
      "0                -0.679146              0.245834  \n",
      "1                -0.368715              0.806541  \n",
      "2                -0.679146             -1.155935  \n",
      "3                 0.252146             -1.155935  \n",
      "4                -0.058285             -0.595227  \n",
      "\n",
      "[5 rows x 24 columns]\n"
     ]
    }
   ],
   "source": [
    "from sklearn.preprocessing import StandardScaler\n",
    "\n",
    "# Identify numerical variables\n",
    "numerical_variables = df.select_dtypes(include=['number']).columns.tolist()\n",
    "\n",
    "# Initialize the StandardScaler\n",
    "scaler = StandardScaler()\n",
    "\n",
    "# Standardize the numerical variables\n",
    "df[numerical_variables] = scaler.fit_transform(df[numerical_variables])\n",
    "\n",
    "print(\"Standardized numerical variables:\")\n",
    "print(df[numerical_variables].head())"
   ]
  },
  {
   "cell_type": "markdown",
   "metadata": {},
   "source": [
    "## Do not alter the below cell. It is a test case for Question 6"
   ]
  },
  {
   "cell_type": "code",
   "execution_count": 150,
   "metadata": {},
   "outputs": [
    {
     "data": {
      "text/plain": [
       "{'question 1': 'pass',\n",
       " 'question 2': 'pass',\n",
       " 'question 3': 'pass',\n",
       " 'question 4': 'pass',\n",
       " 'question 5': 'pass',\n",
       " 'question 6': 'pass'}"
      ]
     },
     "execution_count": 150,
     "metadata": {},
     "output_type": "execute_result"
    }
   ],
   "source": [
    "try:\n",
    "    if ((df['Age'].max() == 2.526885578888087) and (df['DailyRate'].max() == 1.7267301192801021)):\n",
    "        score['question 6'] = 'pass'\n",
    "    else: \n",
    "        score['question 6'] = 'fail'\n",
    "except:\n",
    "    score['question 6'] = 'fail'\n",
    "score"
   ]
  },
  {
   "cell_type": "markdown",
   "metadata": {},
   "source": [
    "###################################################################################################################"
   ]
  },
  {
   "cell_type": "markdown",
   "metadata": {},
   "source": [
    "# Question 7\n",
    "1. Encode the categorical input variables. Do not encode the target variable __Attrition.__ You will do that in the following question.\n",
    "\n",
    "    * __Hints:__\n",
    "        * You will create dummies for categorical variables. \n",
    "        * Example: Let's say you have a variable named occupation. This variable has three levels: Engineer, Teacher, Manager. We will use binary encoding and create dummies for each of these levels to be able to encode the occupation variable. \n",
    "        * Technically, we are converting the categorical variable into new numerical variables.\n",
    "        * We will have two new variables for this occupation variable, such as occupation_teacher, occupation_manager. We do not need occupation_teacher because we can infer if the person is a teacher by checking occupation_manager and occupation_engineer variables. \n",
    "        * For example: If occupation_enginner and occupation_manager are zero, then this person is a teacher. \n",
    "        * If occupation_engineer is 1, this person is an engineer.\n",
    "        * Check __Module 5g: Encoding Categorical Variables__"
   ]
  },
  {
   "cell_type": "code",
   "execution_count": 66,
   "metadata": {},
   "outputs": [
    {
     "name": "stdout",
     "output_type": "stream",
     "text": [
      "DataFrame after encoding categorical variables:\n",
      "        Age Attrition  DailyRate  DistanceFromHome  Education  EmployeeNumber  \\\n",
      "0  0.446350       Yes   0.742527         -1.010909  -0.891688       -1.701283   \n",
      "1  1.322365        No  -1.297775         -0.147150  -1.868426       -1.699621   \n",
      "2  0.008343       Yes   1.414363         -0.887515  -0.891688       -1.696298   \n",
      "3 -0.429664        No   1.461466         -0.764121   1.061787       -1.694636   \n",
      "4 -1.086676        No  -0.524295         -0.887515  -1.868426       -1.691313   \n",
      "\n",
      "   EnvironmentSatisfaction  HourlyRate  JobInvolvement  JobLevel  ...  \\\n",
      "0                -0.660531    1.383138        0.379672 -0.057788  ...   \n",
      "1                 0.254625   -0.240677       -1.026167 -0.057788  ...   \n",
      "2                 1.169781    1.284725       -1.026167 -0.961486  ...   \n",
      "3                 1.169781   -0.486709        0.379672 -0.961486  ...   \n",
      "4                -1.575686   -1.274014        0.379672 -0.961486  ...   \n",
      "\n",
      "   JobRole_Laboratory Technician  JobRole_Manager  \\\n",
      "0                          False            False   \n",
      "1                          False            False   \n",
      "2                           True            False   \n",
      "3                          False            False   \n",
      "4                           True            False   \n",
      "\n",
      "   JobRole_Manufacturing Director  JobRole_Research Director  \\\n",
      "0                           False                      False   \n",
      "1                           False                      False   \n",
      "2                           False                      False   \n",
      "3                           False                      False   \n",
      "4                           False                      False   \n",
      "\n",
      "   JobRole_Research Scientist  JobRole_Sales Executive  \\\n",
      "0                       False                     True   \n",
      "1                        True                    False   \n",
      "2                       False                    False   \n",
      "3                        True                    False   \n",
      "4                       False                    False   \n",
      "\n",
      "   JobRole_Sales Representative  MaritalStatus_Married  MaritalStatus_Single  \\\n",
      "0                         False                  False                  True   \n",
      "1                         False                   True                 False   \n",
      "2                         False                  False                  True   \n",
      "3                         False                   True                 False   \n",
      "4                         False                   True                 False   \n",
      "\n",
      "   OverTime_Yes  \n",
      "0          True  \n",
      "1         False  \n",
      "2          True  \n",
      "3          True  \n",
      "4         False  \n",
      "\n",
      "[5 rows x 46 columns]\n"
     ]
    }
   ],
   "source": [
    "# Identify categorical input variables\n",
    "categorical_variables = df.select_dtypes(include=['object', 'category']).columns.tolist()\n",
    "\n",
    "# Exclude the target variable 'Attrition' from the list of categorical variables\n",
    "categorical_variables = [var for var in categorical_variables if var != 'Attrition']\n",
    "\n",
    "# Create dummy variables for categorical input variables\n",
    "df = pd.get_dummies(df, columns=categorical_variables, drop_first=True)\n",
    "\n",
    "print(\"DataFrame after encoding categorical variables:\")\n",
    "print(df.head())"
   ]
  },
  {
   "cell_type": "markdown",
   "metadata": {},
   "source": [
    "## Do not alter the below cell. It is a test case for Question 7"
   ]
  },
  {
   "cell_type": "code",
   "execution_count": 152,
   "metadata": {},
   "outputs": [
    {
     "data": {
      "text/plain": [
       "{'question 1': 'pass',\n",
       " 'question 2': 'pass',\n",
       " 'question 3': 'pass',\n",
       " 'question 4': 'pass',\n",
       " 'question 5': 'pass',\n",
       " 'question 6': 'pass',\n",
       " 'question 7': 'pass'}"
      ]
     },
     "execution_count": 152,
     "metadata": {},
     "output_type": "execute_result"
    }
   ],
   "source": [
    "try:\n",
    "    if ((df['JobRole_Laboratory Technician'].mean() == 0.1761904761904762) and \n",
    "        (df['EducationField_Marketing'].mean() == 0.10816326530612246)):\n",
    "        score['question 7'] = 'pass'\n",
    "    else: \n",
    "        score['question 7'] = 'fail'\n",
    "except:\n",
    "    score['question 7'] = 'fail'\n",
    "score"
   ]
  },
  {
   "cell_type": "markdown",
   "metadata": {},
   "source": [
    "###################################################################################################################"
   ]
  },
  {
   "cell_type": "markdown",
   "metadata": {},
   "source": [
    "# Question 8\n",
    "1. Encode the categorical output variable: Attrition. Yes should be coded as 1, and No should be coded as 0. The new encoded target variable should be named as Attrition. Do not forget to drop the categorical Attirion Variable. Basically, you will convert the categorical Attrition variable into numerical attrition variable such that Yes will be mapped to 1, and No will be mapped to zero. \n",
    "\n",
    "    * __Hints__:\n",
    "        * Check Module 3 and Module 5 videos.\n"
   ]
  },
  {
   "cell_type": "code",
   "execution_count": 67,
   "metadata": {},
   "outputs": [
    {
     "name": "stdout",
     "output_type": "stream",
     "text": [
      "DataFrame after encoding the target variable 'Attrition':\n",
      "        Age  Attrition  DailyRate  DistanceFromHome  Education  \\\n",
      "0  0.446350          1   0.742527         -1.010909  -0.891688   \n",
      "1  1.322365          0  -1.297775         -0.147150  -1.868426   \n",
      "2  0.008343          1   1.414363         -0.887515  -0.891688   \n",
      "3 -0.429664          0   1.461466         -0.764121   1.061787   \n",
      "4 -1.086676          0  -0.524295         -0.887515  -1.868426   \n",
      "\n",
      "   EmployeeNumber  EnvironmentSatisfaction  HourlyRate  JobInvolvement  \\\n",
      "0       -1.701283                -0.660531    1.383138        0.379672   \n",
      "1       -1.699621                 0.254625   -0.240677       -1.026167   \n",
      "2       -1.696298                 1.169781    1.284725       -1.026167   \n",
      "3       -1.694636                 1.169781   -0.486709        0.379672   \n",
      "4       -1.691313                -1.575686   -1.274014        0.379672   \n",
      "\n",
      "   JobLevel  ...  JobRole_Laboratory Technician  JobRole_Manager  \\\n",
      "0 -0.057788  ...                          False            False   \n",
      "1 -0.057788  ...                          False            False   \n",
      "2 -0.961486  ...                           True            False   \n",
      "3 -0.961486  ...                          False            False   \n",
      "4 -0.961486  ...                           True            False   \n",
      "\n",
      "   JobRole_Manufacturing Director  JobRole_Research Director  \\\n",
      "0                           False                      False   \n",
      "1                           False                      False   \n",
      "2                           False                      False   \n",
      "3                           False                      False   \n",
      "4                           False                      False   \n",
      "\n",
      "   JobRole_Research Scientist  JobRole_Sales Executive  \\\n",
      "0                       False                     True   \n",
      "1                        True                    False   \n",
      "2                       False                    False   \n",
      "3                        True                    False   \n",
      "4                       False                    False   \n",
      "\n",
      "   JobRole_Sales Representative  MaritalStatus_Married  MaritalStatus_Single  \\\n",
      "0                         False                  False                  True   \n",
      "1                         False                   True                 False   \n",
      "2                         False                  False                  True   \n",
      "3                         False                   True                 False   \n",
      "4                         False                   True                 False   \n",
      "\n",
      "   OverTime_Yes  \n",
      "0          True  \n",
      "1         False  \n",
      "2          True  \n",
      "3          True  \n",
      "4         False  \n",
      "\n",
      "[5 rows x 46 columns]\n"
     ]
    }
   ],
   "source": [
    "# Encode the target variable 'Attrition'\n",
    "df['Attrition'] = df['Attrition'].map({'Yes': 1, 'No': 0})\n",
    "\n",
    "print(\"DataFrame after encoding the target variable 'Attrition':\")\n",
    "print(df.head())"
   ]
  },
  {
   "cell_type": "markdown",
   "metadata": {},
   "source": [
    "## Do not alter the below cell. It is a test case for Question 8"
   ]
  },
  {
   "cell_type": "code",
   "execution_count": 154,
   "metadata": {},
   "outputs": [
    {
     "data": {
      "text/plain": [
       "{'question 1': 'pass',\n",
       " 'question 2': 'pass',\n",
       " 'question 3': 'pass',\n",
       " 'question 4': 'pass',\n",
       " 'question 5': 'pass',\n",
       " 'question 6': 'pass',\n",
       " 'question 7': 'pass',\n",
       " 'question 8': 'pass'}"
      ]
     },
     "execution_count": 154,
     "metadata": {},
     "output_type": "execute_result"
    }
   ],
   "source": [
    "try:\n",
    "    if (df['Attrition'].mean() == 0.16122448979591836):\n",
    "        score['question 8'] = 'pass'\n",
    "    else: \n",
    "        score['question 8'] = 'fail'\n",
    "except:\n",
    "    score['question 8'] = 'fail'\n",
    "score"
   ]
  },
  {
   "cell_type": "markdown",
   "metadata": {},
   "source": [
    "###################################################################################################################"
   ]
  },
  {
   "cell_type": "markdown",
   "metadata": {},
   "source": [
    "# Question 9"
   ]
  },
  {
   "cell_type": "markdown",
   "metadata": {},
   "source": [
    "1. Balance the dataset\n",
    "\n",
    "\n",
    "2. Your code should return the input and output variables __seperately__. The input variables will be saved as a dataframe named X. The output variable will be saved as a dataframe named y. \n",
    "\n",
    "    * __Hints:__\n",
    "        * Imbalanced data refers to a situation where the number of observations is not the same for all the classes in a dataset. For example, the number of churned employees is 4000, while the number of unchurned employees is 40000. This means this dataset is imbalanced. \n",
    "        * You need to access the target variable __Attrition__ and increase the number of ones (i.e., Yeses) so that both the number of zeros (i.e., Noes) and the number of ones (i.e., Yeses) will be equal. \n",
    "        * Check __M5g: Encoding Categorical Variables.__ balancing dataset is discussed in this video. "
   ]
  },
  {
   "cell_type": "code",
   "execution_count": 68,
   "metadata": {},
   "outputs": [],
   "source": [
    "# Balance the dataset by upsampling the minority class\n",
    "df_majority = df[df['Attrition'] == 0]\n",
    "df_minority = df[df['Attrition'] == 1]\n",
    "\n",
    "df_minority_upsampled = resample(df_minority, \n",
    "                                 replace=True,  # Sample with replacement\n",
    "                                 n_samples=len(df_majority),  # Match the number of majority instances\n",
    "                                 random_state=42)  # Set a random seed for reproducibility\n",
    "\n",
    "df_balanced = pd.concat([df_majority, df_minority_upsampled])\n",
    "\n",
    "# Separate the input variables (X) and the output variable (y) from the balanced dataset\n",
    "X = df_balanced.drop('Attrition', axis=1)\n",
    "y = df_balanced[['Attrition']]"
   ]
  },
  {
   "cell_type": "markdown",
   "metadata": {},
   "source": [
    "## Do not alter the below cell. It is a test case for Question 9"
   ]
  },
  {
   "cell_type": "code",
   "execution_count": 157,
   "metadata": {},
   "outputs": [
    {
     "data": {
      "text/plain": [
       "{'question 1': 'pass',\n",
       " 'question 2': 'pass',\n",
       " 'question 3': 'pass',\n",
       " 'question 4': 'pass',\n",
       " 'question 5': 'pass',\n",
       " 'question 6': 'pass',\n",
       " 'question 7': 'pass',\n",
       " 'question 8': 'pass',\n",
       " 'question 9': 'pass'}"
      ]
     },
     "execution_count": 157,
     "metadata": {},
     "output_type": "execute_result"
    }
   ],
   "source": [
    "try:\n",
    "    if ((y.Attrition.value_counts()[0] == 1233) and (y.Attrition.value_counts()[1] == 1233)):\n",
    "        score['question 9'] = 'pass'\n",
    "    else: \n",
    "        score['question 9'] = 'fail'\n",
    "except:\n",
    "    score['question 9'] = 'fail'\n",
    "score"
   ]
  },
  {
   "cell_type": "markdown",
   "metadata": {},
   "source": [
    "###################################################################################################################"
   ]
  },
  {
   "cell_type": "markdown",
   "metadata": {},
   "source": [
    "# Question 10"
   ]
  },
  {
   "cell_type": "markdown",
   "metadata": {},
   "source": [
    "* __Split the dataset into training and testing__ Basically using X and y dataframes, you will create X_train, X_test, y_train, and y_test. \n",
    "    * You need to keep 70% of the dataset for training and 30% for testing.\n",
    "    \n",
    "    * __Hints__:\n",
    "        * You can use the train_test_split function in sklearn library\n",
    "        * Check Module __M6c: Classification__"
   ]
  },
  {
   "cell_type": "code",
   "execution_count": 69,
   "metadata": {},
   "outputs": [],
   "source": [
    "from sklearn.model_selection import train_test_split\n",
    "\n",
    "\n",
    "X_train, X_test, y_train, y_test = train_test_split(X, y, test_size=0.3, random_state=42)"
   ]
  },
  {
   "cell_type": "markdown",
   "metadata": {},
   "source": [
    "## Do not alter the below cell. It is a test case for Question 6"
   ]
  },
  {
   "cell_type": "code",
   "execution_count": 159,
   "metadata": {},
   "outputs": [
    {
     "data": {
      "text/plain": [
       "{'question 1': 'pass',\n",
       " 'question 2': 'pass',\n",
       " 'question 3': 'pass',\n",
       " 'question 4': 'pass',\n",
       " 'question 5': 'pass',\n",
       " 'question 6': 'pass',\n",
       " 'question 7': 'pass',\n",
       " 'question 8': 'pass',\n",
       " 'question 9': 'pass',\n",
       " 'question 10': 'pass'}"
      ]
     },
     "execution_count": 159,
     "metadata": {},
     "output_type": "execute_result"
    }
   ],
   "source": [
    "try:\n",
    "    if ((X_train.shape[0]<1750) and (X_train.shape[0]>1700)):\n",
    "        score['question 10'] = 'pass'\n",
    "    else: \n",
    "        score['question 10'] = 'fail'\n",
    "except:\n",
    "    score['question 10'] = 'fail'\n",
    "score"
   ]
  },
  {
   "cell_type": "markdown",
   "metadata": {},
   "source": [
    "###################################################################################################################"
   ]
  },
  {
   "cell_type": "markdown",
   "metadata": {},
   "source": [
    "# Question 11"
   ]
  },
  {
   "cell_type": "markdown",
   "metadata": {},
   "source": [
    "1. Train a knn model where k is 3 using the training dataset.\n",
    "\n",
    "\n",
    "2. Make predictions using the test dataset\n",
    "\n",
    "\n",
    "3. Compute accuracy and save as accuracy\n",
    "\n",
    "    * __Hints:__\n",
    "        * You need to use the KNeighborsClassifier function. Instantiate a knn object and pass the number of neighbors to the function. Train the model using the X_train and y_train. Then make predictions using X_test. Then compute the accuracy using the predicted values and y_test.\n",
    "        * Check __Module 6d: Model Performance__ and __Module 5c: Classification_"
   ]
  },
  {
   "cell_type": "code",
   "execution_count": 71,
   "metadata": {},
   "outputs": [
    {
     "name": "stderr",
     "output_type": "stream",
     "text": [
      "/opt/anaconda3/lib/python3.11/site-packages/sklearn/neighbors/_classification.py:215: DataConversionWarning: A column-vector y was passed when a 1d array was expected. Please change the shape of y to (n_samples,), for example using ravel().\n",
      "  return self._fit(X, y)\n"
     ]
    },
    {
     "name": "stdout",
     "output_type": "stream",
     "text": [
      "Accuracy of kNN (k=3) on test set: 0.86\n"
     ]
    }
   ],
   "source": [
    "from sklearn.neighbors import KNeighborsClassifier\n",
    "from sklearn.metrics import accuracy_score\n",
    "from sklearn.model_selection import train_test_split\n",
    "\n",
    "\n",
    "# Split data into training and test sets\n",
    "X_train, X_test, y_train, y_test = train_test_split (X, y, test_size=0.2, random_state=42)\n",
    "\n",
    "# Instantiate kNN classifier with k=3\n",
    "knn = KNeighborsClassifier(n_neighbors=3)\n",
    "\n",
    "# Train the model\n",
    "knn.fit(X_train, y_train)\n",
    "\n",
    "# Make predictions on the test set\n",
    "y_pred = knn.predict(X_test)\n",
    "\n",
    "# Compute accuracy\n",
    "accuracy = accuracy_score(y_test, y_pred)\n",
    "\n",
    "print(f\"Accuracy of kNN (k=3) on test set: {accuracy:.2f}\")"
   ]
  },
  {
   "cell_type": "markdown",
   "metadata": {},
   "source": [
    "## Do not alter the below cell. It is a test case for Question 11"
   ]
  },
  {
   "cell_type": "code",
   "execution_count": 161,
   "metadata": {},
   "outputs": [
    {
     "data": {
      "text/plain": [
       "{'question 1': 'pass',\n",
       " 'question 2': 'pass',\n",
       " 'question 3': 'pass',\n",
       " 'question 4': 'pass',\n",
       " 'question 5': 'pass',\n",
       " 'question 6': 'pass',\n",
       " 'question 7': 'pass',\n",
       " 'question 8': 'pass',\n",
       " 'question 9': 'pass',\n",
       " 'question 10': 'pass',\n",
       " 'question 11': 'pass'}"
      ]
     },
     "execution_count": 161,
     "metadata": {},
     "output_type": "execute_result"
    }
   ],
   "source": [
    "try:\n",
    "    if (accuracy > 0.70):\n",
    "        score['question 11'] = 'pass'\n",
    "    else: \n",
    "        score['question 11'] = 'fail'\n",
    "except:\n",
    "    score['question 11'] = 'fail'\n",
    "score"
   ]
  },
  {
   "cell_type": "markdown",
   "metadata": {},
   "source": [
    "###################################################################################################################"
   ]
  },
  {
   "cell_type": "markdown",
   "metadata": {},
   "source": [
    "# Question 12"
   ]
  },
  {
   "cell_type": "markdown",
   "metadata": {},
   "source": [
    "1. Train a Random Forests model where the number of estimators is 100  using the training dataset.\n",
    "\n",
    "\n",
    "2. Make predictions using the test dataset\n",
    "\n",
    "\n",
    "3. Compute accuracy and save as accuracy\n",
    "\n",
    "    * __Hints:__\n",
    "        * You need to use the RandomForestClassifier function. Instantiate a RandomForestClassifier object and pass the number of estimators to the function. Train the model using the X_train and y_train. Then make predictions using X_test. Then compute the accuracy using the predicted values and y_test.\n",
    "        * Check __Module 6d: Model Performance__ and __Module 5c: Classification_"
   ]
  },
  {
   "cell_type": "code",
   "execution_count": 72,
   "metadata": {},
   "outputs": [
    {
     "name": "stderr",
     "output_type": "stream",
     "text": [
      "/var/folders/hw/jsf9bvtn2hj97stsp6c_31f40000gn/T/ipykernel_80216/455831441.py:8: DataConversionWarning: A column-vector y was passed when a 1d array was expected. Please change the shape of y to (n_samples,), for example using ravel().\n",
      "  rf.fit(X_train, y_train)\n"
     ]
    },
    {
     "name": "stdout",
     "output_type": "stream",
     "text": [
      "Accuracy of Random Forest (n_estimators=100) on test set: 0.98\n"
     ]
    }
   ],
   "source": [
    "from sklearn.ensemble import RandomForestClassifier\n",
    "from sklearn.metrics import accuracy_score\n",
    "\n",
    "# Instantiate Random Forest classifier with 100 estimators\n",
    "rf = RandomForestClassifier(n_estimators=100, random_state=42)\n",
    "\n",
    "# Train the model\n",
    "rf.fit(X_train, y_train)\n",
    "\n",
    "# Make predictions on the test set\n",
    "y_pred = rf.predict(X_test)\n",
    "\n",
    "# Compute accuracy\n",
    "accuracy = accuracy_score(y_test, y_pred)\n",
    "\n",
    "print(f\"Accuracy of Random Forest (n_estimators=100) on test set: {accuracy:.2f}\")"
   ]
  },
  {
   "cell_type": "markdown",
   "metadata": {},
   "source": [
    "## Do not alter the below cell. It is a test case for Question 6"
   ]
  },
  {
   "cell_type": "code",
   "execution_count": 163,
   "metadata": {},
   "outputs": [
    {
     "data": {
      "text/plain": [
       "{'question 1': 'pass',\n",
       " 'question 2': 'pass',\n",
       " 'question 3': 'pass',\n",
       " 'question 4': 'pass',\n",
       " 'question 5': 'pass',\n",
       " 'question 6': 'pass',\n",
       " 'question 7': 'pass',\n",
       " 'question 8': 'pass',\n",
       " 'question 9': 'pass',\n",
       " 'question 10': 'pass',\n",
       " 'question 11': 'pass',\n",
       " 'question 12': 'pass'}"
      ]
     },
     "execution_count": 163,
     "metadata": {},
     "output_type": "execute_result"
    }
   ],
   "source": [
    "try:\n",
    "    if (accuracy > 0.80):\n",
    "        score['question 12'] = 'pass'\n",
    "    else: \n",
    "        score['question 12'] = 'fail'\n",
    "except:\n",
    "    score['question 12'] = 'fail'\n",
    "score"
   ]
  },
  {
   "cell_type": "markdown",
   "metadata": {},
   "source": [
    "###################################################################################################################"
   ]
  },
  {
   "cell_type": "markdown",
   "metadata": {},
   "source": [
    "# Your Grade"
   ]
  },
  {
   "cell_type": "code",
   "execution_count": 164,
   "metadata": {},
   "outputs": [
    {
     "name": "stdout",
     "output_type": "stream",
     "text": [
      "Your overall score is:  100\n"
     ]
    }
   ],
   "source": [
    "print('Your overall score is: ', round(list(score.values()).count('pass')*8.3333))"
   ]
  }
 ],
 "metadata": {
  "kernelspec": {
   "display_name": "Python 3 (ipykernel)",
   "language": "python",
   "name": "python3"
  },
  "language_info": {
   "codemirror_mode": {
    "name": "ipython",
    "version": 3
   },
   "file_extension": ".py",
   "mimetype": "text/x-python",
   "name": "python",
   "nbconvert_exporter": "python",
   "pygments_lexer": "ipython3",
   "version": "3.11.7"
  },
  "toc": {
   "nav_menu": {},
   "number_sections": true,
   "sideBar": true,
   "skip_h1_title": false,
   "toc_cell": false,
   "toc_position": {},
   "toc_section_display": "block",
   "toc_window_display": false
  },
  "varInspector": {
   "cols": {
    "lenName": 16,
    "lenType": 16,
    "lenVar": 40
   },
   "kernels_config": {
    "python": {
     "delete_cmd_postfix": "",
     "delete_cmd_prefix": "del ",
     "library": "var_list.py",
     "varRefreshCmd": "print(var_dic_list())"
    },
    "r": {
     "delete_cmd_postfix": ") ",
     "delete_cmd_prefix": "rm(",
     "library": "var_list.r",
     "varRefreshCmd": "cat(var_dic_list()) "
    }
   },
   "types_to_exclude": [
    "module",
    "function",
    "builtin_function_or_method",
    "instance",
    "_Feature"
   ],
   "window_display": false
  }
 },
 "nbformat": 4,
 "nbformat_minor": 2
}
